{
 "cells": [
  {
   "cell_type": "code",
   "execution_count": 3,
   "id": "631f4faf-f20b-44e9-8ed2-0da42c220e8e",
   "metadata": {},
   "outputs": [],
   "source": [
    "from urllib.request import urlopen\n",
    "import json\n",
    "import sqlite3\n",
    "import time\n",
    "from datetime import datetime"
   ]
  },
  {
   "cell_type": "code",
   "execution_count": 4,
   "id": "05e579d0-33aa-441b-8b7c-00e57868eea8",
   "metadata": {
    "tags": []
   },
   "outputs": [],
   "source": [
    "con = sqlite3.connect(\"ysk_2019_belediye_secimler.db\")\n",
    "cur = con.cursor()"
   ]
  },
  {
   "cell_type": "code",
   "execution_count": null,
   "id": "0857ba1c-66aa-4388-b06f-3817e4f4d953",
   "metadata": {
    "jupyter": {
     "source_hidden": true
    },
    "tags": []
   },
   "outputs": [],
   "source": [
    "#2019 Belediye Seçimleri\n",
    "il_list  = \"https://sonuc.ysk.gov.tr/api/getIlList?secimId=49302&secimTuru=2&sandikTuru=-1&yurtIciDisi=1\"\n",
    "ilcelist = \"https://sonuc.ysk.gov.tr/api/getIlceList?secimId=49302&secimTuru=2&ilId={}&secimCevresiId=0&sandikTuru=-1&yurtIciDisi=1\""
   ]
  },
  {
   "cell_type": "code",
   "execution_count": null,
   "id": "f18bd1f9-6e61-4879-8664-40b098bf1f00",
   "metadata": {
    "jupyter": {
     "source_hidden": true
    },
    "tags": []
   },
   "outputs": [],
   "source": [
    "for ilid in range(7,82):\n",
    "    get_url = ilcelist.format(ilid)\n",
    "\n",
    "    print(ilid)\n",
    "    response = urlopen(get_url)\n",
    "    data = json.loads(response.read())\n",
    "    for item in data:\n",
    "        try:\n",
    "            cur.execute(\"INSERT INTO ilce VALUES(:id,:birim_ID,:ilce_ID,:ilce_ADI,:belde_ID,:secim_CEVRESI_ID,:yerlesim_YERI_TURU,:secilecek_ADAY_SAYISI,:il_ID,:il_ADI,:secim_DETAY_ID)\", item)\n",
    "        except:\n",
    "            print(\"NOT INSERTED\")\n",
    "        con.commit()"
   ]
  },
  {
   "cell_type": "code",
   "execution_count": null,
   "id": "916a15f7-89ad-4c40-bd59-d85b32caabd6",
   "metadata": {
    "jupyter": {
     "source_hidden": true
    },
    "tags": []
   },
   "outputs": [],
   "source": [
    "con.close()"
   ]
  },
  {
   "cell_type": "code",
   "execution_count": null,
   "id": "375f9670-ffbd-4de9-a81b-42b5eb0e6811",
   "metadata": {
    "jupyter": {
     "source_hidden": true
    },
    "tags": []
   },
   "outputs": [],
   "source": [
    "muhtarlik_url_ = \"https://sonuc.ysk.gov.tr/api/getMuhtarlikList?secimId=49302&secimTuru=2&ilceId={}&beldeId=0&birimId=0&secimCevresiId={}&sandikTuru=-1&yurtIciDisi=1\""
   ]
  },
  {
   "cell_type": "code",
   "execution_count": null,
   "id": "9dc8d09d-f0e8-4877-9fb0-807e805a7f65",
   "metadata": {
    "jupyter": {
     "source_hidden": true
    },
    "tags": []
   },
   "outputs": [],
   "source": [
    "res = cur.execute(\"\"\"SELECT ilce_ID,secim_CEVRESI_ID FROM ilce\"\"\")\n",
    "ilce_secim = res.fetchall()\n",
    "for ilceid, secimcevresiid in ilce_secim:\n",
    "    print(ilceid, secimcevresiid)"
   ]
  },
  {
   "cell_type": "code",
   "execution_count": null,
   "id": "6f1edb49-2f54-4f2c-963f-8763a2d38477",
   "metadata": {
    "jupyter": {
     "source_hidden": true
    },
    "tags": []
   },
   "outputs": [],
   "source": [
    "for ilceid, secimcevresiid in ilce_secim:\n",
    "    get_url = muhtarlik_url_.format(ilceid, secimcevresiid)\n",
    "    print(ilceid, secimcevresiid)\n",
    "    response = urlopen(get_url)\n",
    "    data = json.loads(response.read())\n",
    "    for item in data:\n",
    "        try:\n",
    "            cur.execute(\"INSERT INTO muhtarlik VALUES (:muhtarlik_ID,:min_SANDIK_NO,:max_SANDIK_NO,:muhtarlik_ADI,:cezaevi_ID,:id,:birim_ID,:ilce_ID,:ilce_ADI,:belde_ID,:secim_CEVRESI_ID,:yerlesim_YERI_TURU,:secilecek_ADAY_SAYISI,:il_ID,:il_ADI,:secim_DETAY_ID)\", item)\n",
    "        except:\n",
    "            print(\"NOT INSERTED\")\n",
    "        con.commit()\n"
   ]
  },
  {
   "cell_type": "code",
   "execution_count": null,
   "id": "53b92400-2950-4c85-9628-e02d66974a0b",
   "metadata": {
    "jupyter": {
     "source_hidden": true
    },
    "tags": []
   },
   "outputs": [],
   "source": [
    "secim_sonuc_baslik_url_ = \"https://sonuc.ysk.gov.tr/api/getSandikSecimSonucBaslikList?secimId=49302&secimCevresiId={}&ilId=1&bagimsiz=1&secimTuru=2&yurtIciDisi=1\"\n",
    "res = cur.execute(\"\"\"SELECT ilce_ID,secim_CEVRESI_ID FROM ilce\"\"\")\n",
    "ilce_secim = res.fetchall()\n",
    "total = len(ilce_secim)\n",
    "order = 0\n",
    "print(total)"
   ]
  },
  {
   "cell_type": "code",
   "execution_count": null,
   "id": "dc0dbcc2-1ed8-45c5-9dcc-fe1e7000bead",
   "metadata": {
    "jupyter": {
     "source_hidden": true
    },
    "tags": []
   },
   "outputs": [],
   "source": [
    "for ilceid, secimcevresiid in ilce_secim:\n",
    "    order += 1\n",
    "    get_url = secim_sonuc_baslik_url_.format(secimcevresiid)\n",
    "    print(secimcevresiid, order, total)\n",
    "    response = urlopen(get_url)\n",
    "    data = json.loads(response.read())\n",
    "    for item in data:\n",
    "        item[\"secim_CEVRESI_ID\"] = secimcevresiid\n",
    "        print(item)\n",
    "        try:\n",
    "            cur.execute(\"INSERT INTO secim_sonuc_baslik VALUES (:secim_CEVRESI_ID, :sira_NO,:ad,:column_NAME)\", item)\n",
    "        except Exception as e:\n",
    "            print(\"NOT INSERTED\", e)\n",
    "        con.commit()"
   ]
  },
  {
   "cell_type": "code",
   "execution_count": null,
   "id": "378827e8-fceb-4f02-852d-6542fd3fd17e",
   "metadata": {
    "jupyter": {
     "source_hidden": true
    },
    "tags": []
   },
   "outputs": [],
   "source": [
    "con.close()"
   ]
  },
  {
   "cell_type": "code",
   "execution_count": null,
   "id": "10e03e10-b762-4d29-9e5e-8c8b2f1ec041",
   "metadata": {
    "jupyter": {
     "source_hidden": true
    },
    "tags": []
   },
   "outputs": [],
   "source": [
    "getSecimSonucList = \"https://sonuc.ysk.gov.tr/api/getSecimSonucList?secimId=49302&secimTuru=2&ilId={}&ilceId={}&beldeId={}&birimId=0&muhtarlikId={}&cezaeviId={}&sandikTuru=&sandikNoIlk={}&sandikNoSon={}&ulkeId=&disTemsilcilikId=&gumrukId=&yurtIciDisi=1&sandikRumuzIlk=&sandikRumuzSon=&secimCevresiId={}&sandikId=\""
   ]
  },
  {
   "cell_type": "code",
   "execution_count": null,
   "id": "90f98ba5-3484-420e-b3cb-eab035325ee0",
   "metadata": {
    "jupyter": {
     "source_hidden": true
    },
    "tags": []
   },
   "outputs": [],
   "source": [
    "res = cur.execute(\"\"\"SELECT * FROM muhtarlik WHERE completed is NULL or completed = 0\"\"\")\n",
    "headers = tuple([i[0] for i in res.description])\n",
    "muhtarlik = res.fetchall()\n",
    "total = len(muhtarlik)\n",
    "order = 0\n",
    "print(total)"
   ]
  },
  {
   "cell_type": "code",
   "execution_count": null,
   "id": "50dc7815-6d9c-467e-bdcf-bc57e3374a2c",
   "metadata": {
    "jupyter": {
     "source_hidden": true
    },
    "tags": []
   },
   "outputs": [],
   "source": [
    "for dd in muhtarlik:\n",
    "    order += 1\n",
    "    ddd = dict(zip(headers,dd))\n",
    "    ilId             = ddd[\"il_ID\"]\n",
    "    ilceId           = ddd[\"ilce_ID\"]\n",
    "    beldeId          = ddd[\"belde_ID\"]\n",
    "    muhtarlikId      = ddd[\"muhtarlik_ID\"]\n",
    "    cezaeviId        = ddd[\"cezaevi_ID\"]\n",
    "    sandikNoIlk      = ddd[\"min_SANDIK_NO\"]\n",
    "    sandikNoSon      = ddd[\"max_SANDIK_NO\"]\n",
    "    secimCevresiId   = ddd[\"secim_CEVRESI_ID\"]\n",
    "    get_url = getSecimSonucList.format(ilId, ilceId, beldeId, muhtarlikId, cezaeviId, sandikNoIlk, sandikNoSon, secimCevresiId)\n",
    "    response = urlopen(get_url)\n",
    "    data = json.loads(response.read())\n",
    "    print(ilId,ilId,beldeId, muhtarlikId, order, total)  \n",
    "    for item in data:\n",
    "        item[\"ilce_ID\"] = ddd[\"ilce_ID\"]\n",
    "        item[\"muhtarlik_ID\"] = ddd[\"muhtarlik_ID\"]\n",
    "        item[\"min_SANDIK_NO\"] = ddd[\"min_SANDIK_NO\"]\n",
    "        item[\"max_SANDIK_NO\"] = ddd[\"max_SANDIK_NO\"]\n",
    "        try:\n",
    "            cur.execute(\"\"\"UPDATE muhtarlik SET completed = 1, completed_date = '{}'\n",
    "            WHERE ilce_ID={} AND \n",
    "                muhtarlik_ID={} AND \n",
    "                min_SANDIK_NO={} AND \n",
    "                max_SANDIK_NO={}\"\"\".format(datetime.today().strftime('%Y-%m-%d %H:%M:%S'),\n",
    "                                           item[\"ilce_ID\"],\n",
    "                                           item[\"muhtarlik_ID\"],\n",
    "                                           item[\"min_SANDIK_NO\"],\n",
    "                                           item[\"max_SANDIK_NO\"]))\n",
    "            cur.execute(\"\"\"INSERT INTO secim_sonuc_ozet VALUES\n",
    "            (:ilce_ID,\n",
    "            :muhtarlik_ID,\n",
    "            :min_SANDIK_NO,\n",
    "            :max_SANDIK_NO,\n",
    "            :secilecek_ADAY_SAYISI,\n",
    "            :birlestirme_TUTANAGI_ILCE,\n",
    "            :birlestirme_TUTANAGI_KURUL,\n",
    "            :birlestirme_TUTANAGI_ULKE,\n",
    "            :birlestirme_TUTANAGI_DIS_TEMSILCILIK,\n",
    "            :birlestirme_TUTANAGI_GUMRUK_ILCE,\n",
    "            :birlestirme_TUTANAGI_GUMRUK_KURUL,\n",
    "            :birlestirme_TUTANAGI_GUMRUK_RUMUZ,\n",
    "            :birlestirme_TUTANAGI_ULKELER,\n",
    "            :birlestirme_TUTANAGI_GUMRUKLER,\n",
    "            :birlestirme_TUTANAGI_TUMDUNYA,\n",
    "            :acilan_SANDIK_SAYISI,\n",
    "            :secmen_SAYISI,\n",
    "            :acilan_SECMEN_SAYISI,\n",
    "            :oy_KULLANAN_SECMEN_SAYISI,\n",
    "            :itirazli_GECERLI_OY_SAYISI,\n",
    "            :itirazsiz_GECERLI_OY_SAYISI,\n",
    "            :gecerli_OY_TOPLAMI,\n",
    "            :gecersiz_OY_TOPLAMI,\n",
    "            :birlestirme_TUTANAGI_IL,\n",
    "            :toplam_SANDIK_SAYISI)\"\"\", item)\n",
    "            con.commit()\n",
    "        except Exception as e:\n",
    "            print(\"NOT INSERTED\", e)\n",
    "            con.rollback()"
   ]
  },
  {
   "cell_type": "code",
   "execution_count": null,
   "id": "01949aa6-932b-4448-905c-27622371c756",
   "metadata": {
    "jupyter": {
     "source_hidden": true
    },
    "tags": []
   },
   "outputs": [],
   "source": [
    "con.close()"
   ]
  },
  {
   "cell_type": "code",
   "execution_count": 5,
   "id": "336d346a-439c-4eb5-8bfd-c794cc1b1ac1",
   "metadata": {},
   "outputs": [
    {
     "name": "stdout",
     "output_type": "stream",
     "text": [
      "32207\n"
     ]
    }
   ],
   "source": [
    "getSandikSonucList = \"https://sonuc.ysk.gov.tr/api/getSecimSandikSonucList?secimId=49302&secimTuru=2&ilId={}&ilceId={}&beldeId={}&birimId=0&muhtarlikId={}&cezaeviId={}&sandikTuru=&sandikNoIlk={}&sandikNoSon={}&ulkeId=&disTemsilcilikId=&gumrukId=&yurtIciDisi=1&sandikRumuzIlk=&sandikRumuzSon=&secimCevresiId={}&sandikId=&sorguTuru=2\"\n",
    "res = cur.execute(\"\"\"SELECT * FROM muhtarlik WHERE detay_completed is NULL or detay_completed = 0\"\"\")\n",
    "headers = tuple([i[0] for i in res.description])\n",
    "secim_sonuc_ozet_list = res.fetchall()\n",
    "total = len(secim_sonuc_ozet_list)\n",
    "order = 0\n",
    "print(total)"
   ]
  },
  {
   "cell_type": "code",
   "execution_count": null,
   "id": "c161e870-ac4b-47f6-8bd9-6bc1993d6c78",
   "metadata": {},
   "outputs": [],
   "source": [
    "for dd in secim_sonuc_ozet_list:\n",
    "    order += 1\n",
    "    ddd = dict(zip(headers,dd))\n",
    "    ilId             = ddd[\"il_ID\"]\n",
    "    ilceId           = ddd[\"ilce_ID\"]\n",
    "    beldeId          = ddd[\"belde_ID\"]\n",
    "    muhtarlikId      = ddd[\"muhtarlik_ID\"]\n",
    "    cezaeviId        = ddd[\"cezaevi_ID\"]\n",
    "    sandikNoIlk      = ddd[\"min_SANDIK_NO\"]\n",
    "    sandikNoSon      = ddd[\"max_SANDIK_NO\"]\n",
    "    secimCevresiId   = ddd[\"secim_CEVRESI_ID\"]\n",
    "    get_url = getSandikSonucList.format(ilId, ilceId, beldeId, muhtarlikId, cezaeviId, sandikNoIlk, sandikNoSon, secimCevresiId)\n",
    "    response = urlopen(get_url)\n",
    "    data = json.loads(response.read())\n",
    "    print(ilId,ilId,beldeId, muhtarlikId, order, total, end=\"\")\n",
    "    for item in data:\n",
    "        item[\"ilce_ID\"] = ddd[\"ilce_ID\"]\n",
    "        item[\"muhtarlik_ID\"] = ddd[\"muhtarlik_ID\"]\n",
    "        item[\"min_SANDIK_NO\"] = ddd[\"min_SANDIK_NO\"]\n",
    "        item[\"max_SANDIK_NO\"] = ddd[\"max_SANDIK_NO\"]\n",
    "        try:\n",
    "            cur.execute(\"\"\"UPDATE muhtarlik SET detay_completed = 1, detay_completed_date = '{}'\n",
    "            WHERE ilce_ID={} AND \n",
    "                muhtarlik_ID={} AND \n",
    "                min_SANDIK_NO={} AND \n",
    "                max_SANDIK_NO={}\"\"\".format(datetime.today().strftime('%Y-%m-%d %H:%M:%S'),\n",
    "                                           item[\"ilce_ID\"],\n",
    "                                           item[\"muhtarlik_ID\"],\n",
    "                                           item[\"min_SANDIK_NO\"],\n",
    "                                           item[\"max_SANDIK_NO\"]))\n",
    "            cur.execute(\"\"\"INSERT INTO sandik_sonuc VALUES\n",
    "            (:muhtarlik_ID,\n",
    "            :birim_ID,\n",
    "            :ilce_ID,\n",
    "            :ulke_ID,\n",
    "            :sandik_NO,\n",
    "            :sandik_SONUC_TUTANAGI,\n",
    "            :sandik_DOKUM_CETVELI,\n",
    "            :denetim_TUTANAGI,\n",
    "            :ilce_ADI,\n",
    "            :muhtarlik_ADI,\n",
    "            :cezaevi_ID,\n",
    "            :dis_TEMSILCILIK_ID,\n",
    "            :il_ID,\n",
    "            :birlestirme_TUTANAGI_ILCE,\n",
    "            :birlestirme_TUTANAGI_KURUL,\n",
    "            :birlestirme_TUTANAGI_ULKE,\n",
    "            :birlestirme_TUTANAGI_DIS_TEMSILCILIK,\n",
    "            :birlestirme_TUTANAGI_GUMRUK_ILCE,\n",
    "            :birlestirme_TUTANAGI_GUMRUK_KURUL,\n",
    "            :birlestirme_TUTANAGI_GUMRUK_RUMUZ,\n",
    "            :birlestirme_TUTANAGI_ULKELER,\n",
    "            :birlestirme_TUTANAGI_GUMRUKLER,\n",
    "            :birlestirme_TUTANAGI_TUMDUNYA,\n",
    "            :birlestirme_TUTANAGI_IL,\n",
    "            :il_ADI,\n",
    "            :bagimsiz_TOPLAM_OY,\n",
    "            :gumruk_ID,\n",
    "            :sandik_RUMUZ,\n",
    "            :gumruk_SANDIK_TARIHI,\n",
    "            :belde_ID,\n",
    "            :secim_TURU,\n",
    "            :parti28_ALDIGI_OY,\n",
    "            :parti29_ALDIGI_OY,\n",
    "            :parti30_ALDIGI_OY,\n",
    "            :bagimsiz1_ALDIGI_OY,\n",
    "            :bagimsiz2_ALDIGI_OY,\n",
    "            :bagimsiz3_ALDIGI_OY,\n",
    "            :bagimsiz4_ALDIGI_OY,\n",
    "            :bagimsiz5_ALDIGI_OY,\n",
    "            :bagimsiz6_ALDIGI_OY,\n",
    "            :bagimsiz7_ALDIGI_OY,\n",
    "            :bagimsiz8_ALDIGI_OY,\n",
    "            :bagimsiz9_ALDIGI_OY,\n",
    "            :bagimsiz10_ALDIGI_OY,\n",
    "            :bagimsiz11_ALDIGI_OY,\n",
    "            :bagimsiz12_ALDIGI_OY,\n",
    "            :bagimsiz13_ALDIGI_OY,\n",
    "            :bagimsiz14_ALDIGI_OY,\n",
    "            :bagimsiz15_ALDIGI_OY,\n",
    "            :bagimsiz16_ALDIGI_OY,\n",
    "            :bagimsiz17_ALDIGI_OY,\n",
    "            :bagimsiz18_ALDIGI_OY,\n",
    "            :bagimsiz19_ALDIGI_OY,\n",
    "            :bagimsiz20_ALDIGI_OY,\n",
    "            :bagimsiz21_ALDIGI_OY,\n",
    "            :bagimsiz22_ALDIGI_OY,\n",
    "            :bagimsiz23_ALDIGI_OY,\n",
    "            :bagimsiz24_ALDIGI_OY,\n",
    "            :bagimsiz25_ALDIGI_OY,\n",
    "            :bagimsiz26_ALDIGI_OY,\n",
    "            :bagimsiz27_ALDIGI_OY,\n",
    "            :bagimsiz28_ALDIGI_OY,\n",
    "            :bagimsiz29_ALDIGI_OY,\n",
    "            :bagimsiz30_ALDIGI_OY,\n",
    "            :bagimsiz31_ALDIGI_OY,\n",
    "            :bagimsiz32_ALDIGI_OY,\n",
    "            :bagimsiz33_ALDIGI_OY,\n",
    "            :bagimsiz34_ALDIGI_OY,\n",
    "            :bagimsiz35_ALDIGI_OY,\n",
    "            :bagimsiz36_ALDIGI_OY,\n",
    "            :bagimsiz37_ALDIGI_OY,\n",
    "            :bagimsiz38_ALDIGI_OY,\n",
    "            :bagimsiz39_ALDIGI_OY,\n",
    "            :bagimsiz40_ALDIGI_OY,\n",
    "            :secim_ID,\n",
    "            :sandik_ID,\n",
    "            :secmen_SAYISI,\n",
    "            :oy_KULLANAN_SECMEN_SAYISI,\n",
    "            :itirazli_GECERLI_OY_SAYISI,\n",
    "            :itirazsiz_GECERLI_OY_SAYISI,\n",
    "            :gecerli_OY_TOPLAMI,\n",
    "            :gecersiz_OY_TOPLAMI,\n",
    "            :bagimsiz41_ALDIGI_OY,\n",
    "            :bagimsiz42_ALDIGI_OY,\n",
    "            :bagimsiz43_ALDIGI_OY,\n",
    "            :bagimsiz44_ALDIGI_OY,\n",
    "            :bagimsiz45_ALDIGI_OY,\n",
    "            :bagimsiz46_ALDIGI_OY,\n",
    "            :bagimsiz47_ALDIGI_OY,\n",
    "            :bagimsiz48_ALDIGI_OY,\n",
    "            :bagimsiz49_ALDIGI_OY,\n",
    "            :bagimsiz50_ALDIGI_OY,\n",
    "            :ittifak1_ALDIGI_OY,\n",
    "            :ittifak2_ALDIGI_OY,\n",
    "            :ittifak3_ALDIGI_OY,\n",
    "            :ittifak4_ALDIGI_OY,\n",
    "            :ittifak5_ALDIGI_OY,\n",
    "            :versiyon,\n",
    "            :son_ISLEM_TARIHI,\n",
    "            :degisiklik_NEDENI,\n",
    "            :sandik_SONUC_ID,\n",
    "            :parti1_ALDIGI_OY,\n",
    "            :parti2_ALDIGI_OY,\n",
    "            :parti3_ALDIGI_OY,\n",
    "            :parti4_ALDIGI_OY,\n",
    "            :parti5_ALDIGI_OY,\n",
    "            :parti6_ALDIGI_OY,\n",
    "            :parti7_ALDIGI_OY,\n",
    "            :parti8_ALDIGI_OY,\n",
    "            :parti9_ALDIGI_OY,\n",
    "            :parti10_ALDIGI_OY,\n",
    "            :parti11_ALDIGI_OY,\n",
    "            :parti12_ALDIGI_OY,\n",
    "            :parti13_ALDIGI_OY,\n",
    "            :parti14_ALDIGI_OY,\n",
    "            :parti15_ALDIGI_OY,\n",
    "            :parti16_ALDIGI_OY,\n",
    "            :parti17_ALDIGI_OY,\n",
    "            :parti18_ALDIGI_OY,\n",
    "            :parti19_ALDIGI_OY,\n",
    "            :parti20_ALDIGI_OY,\n",
    "            :parti21_ALDIGI_OY,\n",
    "            :parti22_ALDIGI_OY,\n",
    "            :parti23_ALDIGI_OY,\n",
    "            :parti24_ALDIGI_OY,\n",
    "            :parti25_ALDIGI_OY,\n",
    "            :parti26_ALDIGI_OY,\n",
    "            :parti27_ALDIGI_OY)\"\"\", item)\n",
    "            con.commit()\n",
    "        except Exception as e:\n",
    "            print(\"NOT INSERTED\", e)\n",
    "            con.rollback()"
   ]
  },
  {
   "cell_type": "code",
   "execution_count": 7,
   "id": "884e785e-db8c-4dc1-9038-0acb0e0b8f40",
   "metadata": {},
   "outputs": [],
   "source": [
    "con.close()"
   ]
  },
  {
   "cell_type": "code",
   "execution_count": null,
   "id": "c7319c7a-53da-44c5-886a-6c2913126550",
   "metadata": {},
   "outputs": [],
   "source": []
  }
 ],
 "metadata": {
  "kernelspec": {
   "display_name": "Python 3 (ipykernel)",
   "language": "python",
   "name": "python3"
  },
  "language_info": {
   "codemirror_mode": {
    "name": "ipython",
    "version": 3
   },
   "file_extension": ".py",
   "mimetype": "text/x-python",
   "name": "python",
   "nbconvert_exporter": "python",
   "pygments_lexer": "ipython3",
   "version": "3.9.13"
  }
 },
 "nbformat": 4,
 "nbformat_minor": 5
}
