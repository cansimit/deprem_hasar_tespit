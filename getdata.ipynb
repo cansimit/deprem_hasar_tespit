{
 "cells": [
  {
   "cell_type": "code",
   "execution_count": 1,
   "id": "e1ea290c-12b1-4506-941c-678e1524b2e0",
   "metadata": {},
   "outputs": [],
   "source": [
    "from urllib.request import urlopen\n",
    "import json\n",
    "import sqlite3\n",
    "import time"
   ]
  },
  {
   "cell_type": "code",
   "execution_count": 14,
   "id": "d557fc2c",
   "metadata": {},
   "outputs": [],
   "source": [
    "con = sqlite3.connect(\"hasar_tespit_25_02_2023.db\")\n",
    "cur = con.cursor()"
   ]
  },
  {
   "cell_type": "code",
   "execution_count": 15,
   "id": "ca787b86",
   "metadata": {},
   "outputs": [],
   "source": [
    "res = cur.execute(\"\"\"SELECT il.ilid, iladi, ilce.ilceid, ilce.ilceadi, mahalleid, mahalleadi \n",
    "FROM il, ilce, mahalle \n",
    "WHERE il.ilid = ilce.ilid and ilce.ilceid = mahalle.ilceid\"\"\")"
   ]
  },
  {
   "cell_type": "code",
   "execution_count": 16,
   "id": "23971d40-8529-488d-8930-a5ab93b80f5e",
   "metadata": {},
   "outputs": [],
   "source": [
    "il_ilce_mahalle_tbl = res.fetchall()\n"
   ]
  },
  {
   "cell_type": "code",
   "execution_count": 18,
   "id": "0514b9c8-ff11-455a-b311-0363d73d96d9",
   "metadata": {},
   "outputs": [
    {
     "name": "stdout",
     "output_type": "stream",
     "text": [
      "(1, 'Adana', 1757, 'Aladağ', 4232, 'Mansurlu')\n"
     ]
    }
   ],
   "source": [
    "print(il_ilce_mahalle_tbl[0])"
   ]
  },
  {
   "cell_type": "code",
   "execution_count": 20,
   "id": "3ed0b6d7-0870-465d-a458-894e8eec1e23",
   "metadata": {},
   "outputs": [
    {
     "name": "stdout",
     "output_type": "stream",
     "text": [
      "Mansurlu\n"
     ]
    }
   ],
   "source": [
    "for item in il_ilce_mahalle_tbl:\n",
    "    print(item[5])\n",
    "    break"
   ]
  },
  {
   "cell_type": "code",
   "execution_count": null,
   "id": "b09e1d81",
   "metadata": {},
   "outputs": [],
   "source": [
    "get_ilce_url = \"https://hasartespit.csb.gov.tr/query/counties?cityId=\" \n",
    "get_mahalle_url = \"https://hasartespit.csb.gov.tr/query/districts?countyId=\""
   ]
  },
  {
   "cell_type": "code",
   "execution_count": null,
   "id": "63ad1e4b",
   "metadata": {},
   "outputs": [],
   "source": [
    "verification_token=\"__RequestVerificationToken=CfDJ8PZLaRZRODdKtgtNmfRIkdeYAjudQhLFJTR4yZ3C81ObwfWbh-9pERcIq2b7yVMpwPy7FVfZbVJD-STac14gRsIo1VC_0IzwTEA64qO2WYwNvjB9FkKy0kFyyUNdv9W5q3YDmK1Izd8NldUzR9l-TLo\"\n",
    "#verification token needs to assigned manually. Open the front page and get the token by selecting il, ilce, mahalle.\n",
    "\n",
    "ilid_part = \"IlId=\"\n",
    "ilceid_part = \"&IlceId=\"\n",
    "mahalleid_part = \"&MahalleId=\"\n",
    "sokak_bina_askikodu_part=\"&Sokak=&BinaNo=&AskiKodu=&\" + verification_token\n",
    "\n",
    "hasar_sorgu_url = \"https://hasartespit.csb.gov.tr/query/AddressQuery?\"\n"
   ]
  },
  {
   "cell_type": "code",
   "execution_count": null,
   "id": "2f8810e7",
   "metadata": {},
   "outputs": [],
   "source": [
    "for item in il_ilce_mahalle_tbl:\n",
    "    ilid = item[0]\n",
    "    iladi = item[1]\n",
    "    ilceid = item[2]\n",
    "    ilceadi = item[3]\n",
    "    mahalleid = item[4]\n",
    "    mahalleadi = item[5]\n",
    "    print(ilid, iladi, ilceid, ilceadi, mahalleid, mahalleadi)\n",
    "    sorgu_url = hasar_sorgu_url + ilid_part + str(ilid) + ilceid_part + str(ilceid) + mahalleid_part + str(mahalleid) + sokak_bina_askikodu_part\n",
    "    response = urlopen(sorgu_url)\n",
    "    data = json.loads(response.read())\n",
    "    for hasar_items in data:\n",
    "        uid = hasar_items[\"uid\"]\n",
    "        askiKodu = hasar_items[\"askiKodu\"]\n",
    "        yapi_kimlik_no=hasar_items[\"yapi_kimlik_no\"]\n",
    "        sokak=hasar_items[\"sokak\"]\n",
    "        binaNo=hasar_items[\"binaNo\"]\n",
    "        aciklama=hasar_items[\"aciklama\"]\n",
    "        itirazSonucu=hasar_items[\"itirazSonucu\"]\n",
    "        deprem_adi=hasar_items[\"deprem_adi\"]\n",
    "        deprem_siddeti=hasar_items[\"deprem_siddeti\"]\n",
    "        deprem_tarihi=hasar_items[\"deprem_tarihi\"]\n",
    "        fotograflar=str(hasar_items[\"fotograflar\"])\n",
    "        try:\n",
    "            cur.execute(\"INSERT INTO HASAR VALUES(?, ?, ?, ?, ?, ?, ?, ?, ?, ?, ?, ?)\", [mahalleid, uid,askiKodu,yapi_kimlik_no,sokak,binaNo,aciklama,itirazSonucu,deprem_adi,deprem_siddeti,deprem_tarihi,fotograflar])\n",
    "            con.commit()\n",
    "        except:\n",
    "            print(\"Not inserted: \", ilid, iladi, ilceid, ilceadi, mahalleid, mahalleadi)\n",
    "        time.sleep(1)\n",
    "    "
   ]
  },
  {
   "cell_type": "code",
   "execution_count": 7,
   "id": "c21d1a8a",
   "metadata": {},
   "outputs": [],
   "source": [
    "con.close()"
   ]
  },
  {
   "cell_type": "code",
   "execution_count": null,
   "id": "93a53613-bc81-48ba-8271-7937aad2ff14",
   "metadata": {},
   "outputs": [],
   "source": []
  }
 ],
 "metadata": {
  "kernelspec": {
   "display_name": "Python 3 (ipykernel)",
   "language": "python",
   "name": "python3"
  },
  "language_info": {
   "codemirror_mode": {
    "name": "ipython",
    "version": 3
   },
   "file_extension": ".py",
   "mimetype": "text/x-python",
   "name": "python",
   "nbconvert_exporter": "python",
   "pygments_lexer": "ipython3",
   "version": "3.9.13"
  }
 },
 "nbformat": 4,
 "nbformat_minor": 5
}
